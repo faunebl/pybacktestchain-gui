{
 "cells": [
  {
   "cell_type": "code",
   "execution_count": 15,
   "metadata": {},
   "outputs": [],
   "source": [
    "from pybacktestchain.data_module import FirstTwoMoments\n",
    "from pybacktestchain.broker import Backtest, StopLoss\n",
    "from pybacktestchain.blockchain import load_blockchain\n",
    "from datetime import datetime\n",
    "import polars as pl\n",
    "import plotly.express as px\n",
    "\n",
    "import get_all_tickers.get_tickers as gt"
   ]
  },
  {
   "cell_type": "code",
   "execution_count": 17,
   "metadata": {},
   "outputs": [
    {
     "data": {
      "text/plain": [
       "'Technology'"
      ]
     },
     "execution_count": 17,
     "metadata": {},
     "output_type": "execute_result"
    }
   ],
   "source": [
    "gt.SectorConstants.TECH"
   ]
  },
  {
   "cell_type": "code",
   "execution_count": 22,
   "metadata": {},
   "outputs": [
    {
     "ename": "ParserError",
     "evalue": "Error tokenizing data. C error: Expected 1 fields in line 8, saw 2\n",
     "output_type": "error",
     "traceback": [
      "\u001b[1;31m---------------------------------------------------------------------------\u001b[0m",
      "\u001b[1;31mParserError\u001b[0m                               Traceback (most recent call last)",
      "Cell \u001b[1;32mIn[22], line 1\u001b[0m\n\u001b[1;32m----> 1\u001b[0m \u001b[43mgt\u001b[49m\u001b[38;5;241;43m.\u001b[39;49m\u001b[43mget_tickers\u001b[49m\u001b[43m(\u001b[49m\u001b[43mAMEX\u001b[49m\u001b[38;5;241;43m=\u001b[39;49m\u001b[38;5;28;43;01mFalse\u001b[39;49;00m\u001b[43m,\u001b[49m\u001b[43m \u001b[49m\u001b[43mNASDAQ\u001b[49m\u001b[38;5;241;43m=\u001b[39;49m\u001b[38;5;28;43;01mFalse\u001b[39;49;00m\u001b[43m)\u001b[49m\n",
      "File \u001b[1;32mc:\\Users\\faune\\miniconda3\\envs\\pybacktestchain-gui\\Lib\\site-packages\\get_all_tickers\\get_tickers.py:73\u001b[0m, in \u001b[0;36mget_tickers\u001b[1;34m(NYSE, NASDAQ, AMEX)\u001b[0m\n\u001b[0;32m     71\u001b[0m tickers_list \u001b[38;5;241m=\u001b[39m []\n\u001b[0;32m     72\u001b[0m \u001b[38;5;28;01mif\u001b[39;00m NYSE:\n\u001b[1;32m---> 73\u001b[0m     tickers_list\u001b[38;5;241m.\u001b[39mextend(\u001b[43m__exchange2list\u001b[49m\u001b[43m(\u001b[49m\u001b[38;5;124;43m'\u001b[39;49m\u001b[38;5;124;43mnyse\u001b[39;49m\u001b[38;5;124;43m'\u001b[39;49m\u001b[43m)\u001b[49m)\n\u001b[0;32m     74\u001b[0m \u001b[38;5;28;01mif\u001b[39;00m NASDAQ:\n\u001b[0;32m     75\u001b[0m     tickers_list\u001b[38;5;241m.\u001b[39mextend(__exchange2list(\u001b[38;5;124m'\u001b[39m\u001b[38;5;124mnasdaq\u001b[39m\u001b[38;5;124m'\u001b[39m))\n",
      "File \u001b[1;32mc:\\Users\\faune\\miniconda3\\envs\\pybacktestchain-gui\\Lib\\site-packages\\get_all_tickers\\get_tickers.py:138\u001b[0m, in \u001b[0;36m__exchange2list\u001b[1;34m(exchange)\u001b[0m\n\u001b[0;32m    137\u001b[0m \u001b[38;5;28;01mdef\u001b[39;00m\u001b[38;5;250m \u001b[39m\u001b[38;5;21m__exchange2list\u001b[39m(exchange):\n\u001b[1;32m--> 138\u001b[0m     df \u001b[38;5;241m=\u001b[39m \u001b[43m__exchange2df\u001b[49m\u001b[43m(\u001b[49m\u001b[43mexchange\u001b[49m\u001b[43m)\u001b[49m\n\u001b[0;32m    139\u001b[0m     \u001b[38;5;66;03m# removes weird tickers\u001b[39;00m\n\u001b[0;32m    140\u001b[0m     df_filtered \u001b[38;5;241m=\u001b[39m df[\u001b[38;5;241m~\u001b[39mdf[\u001b[38;5;124m'\u001b[39m\u001b[38;5;124mSymbol\u001b[39m\u001b[38;5;124m'\u001b[39m]\u001b[38;5;241m.\u001b[39mstr\u001b[38;5;241m.\u001b[39mcontains(\u001b[38;5;124m\"\u001b[39m\u001b[38;5;124m\\\u001b[39m\u001b[38;5;124m.|\u001b[39m\u001b[38;5;124m\\\u001b[39m\u001b[38;5;124m^\u001b[39m\u001b[38;5;124m\"\u001b[39m)]\n",
      "File \u001b[1;32mc:\\Users\\faune\\miniconda3\\envs\\pybacktestchain-gui\\Lib\\site-packages\\get_all_tickers\\get_tickers.py:134\u001b[0m, in \u001b[0;36m__exchange2df\u001b[1;34m(exchange)\u001b[0m\n\u001b[0;32m    132\u001b[0m response \u001b[38;5;241m=\u001b[39m requests\u001b[38;5;241m.\u001b[39mget(\u001b[38;5;124m'\u001b[39m\u001b[38;5;124mhttps://old.nasdaq.com/screening/companies-by-name.aspx\u001b[39m\u001b[38;5;124m'\u001b[39m, headers\u001b[38;5;241m=\u001b[39mheaders, params\u001b[38;5;241m=\u001b[39mparams(exchange))\n\u001b[0;32m    133\u001b[0m data \u001b[38;5;241m=\u001b[39m io\u001b[38;5;241m.\u001b[39mStringIO(response\u001b[38;5;241m.\u001b[39mtext)\n\u001b[1;32m--> 134\u001b[0m df \u001b[38;5;241m=\u001b[39m \u001b[43mpd\u001b[49m\u001b[38;5;241;43m.\u001b[39;49m\u001b[43mread_csv\u001b[49m\u001b[43m(\u001b[49m\u001b[43mdata\u001b[49m\u001b[43m,\u001b[49m\u001b[43m \u001b[49m\u001b[43msep\u001b[49m\u001b[38;5;241;43m=\u001b[39;49m\u001b[38;5;124;43m\"\u001b[39;49m\u001b[38;5;124;43m,\u001b[39;49m\u001b[38;5;124;43m\"\u001b[39;49m\u001b[43m)\u001b[49m\n\u001b[0;32m    135\u001b[0m \u001b[38;5;28;01mreturn\u001b[39;00m df\n",
      "File \u001b[1;32mc:\\Users\\faune\\miniconda3\\envs\\pybacktestchain-gui\\Lib\\site-packages\\pandas\\io\\parsers\\readers.py:1026\u001b[0m, in \u001b[0;36mread_csv\u001b[1;34m(filepath_or_buffer, sep, delimiter, header, names, index_col, usecols, dtype, engine, converters, true_values, false_values, skipinitialspace, skiprows, skipfooter, nrows, na_values, keep_default_na, na_filter, verbose, skip_blank_lines, parse_dates, infer_datetime_format, keep_date_col, date_parser, date_format, dayfirst, cache_dates, iterator, chunksize, compression, thousands, decimal, lineterminator, quotechar, quoting, doublequote, escapechar, comment, encoding, encoding_errors, dialect, on_bad_lines, delim_whitespace, low_memory, memory_map, float_precision, storage_options, dtype_backend)\u001b[0m\n\u001b[0;32m   1013\u001b[0m kwds_defaults \u001b[38;5;241m=\u001b[39m _refine_defaults_read(\n\u001b[0;32m   1014\u001b[0m     dialect,\n\u001b[0;32m   1015\u001b[0m     delimiter,\n\u001b[1;32m   (...)\u001b[0m\n\u001b[0;32m   1022\u001b[0m     dtype_backend\u001b[38;5;241m=\u001b[39mdtype_backend,\n\u001b[0;32m   1023\u001b[0m )\n\u001b[0;32m   1024\u001b[0m kwds\u001b[38;5;241m.\u001b[39mupdate(kwds_defaults)\n\u001b[1;32m-> 1026\u001b[0m \u001b[38;5;28;01mreturn\u001b[39;00m \u001b[43m_read\u001b[49m\u001b[43m(\u001b[49m\u001b[43mfilepath_or_buffer\u001b[49m\u001b[43m,\u001b[49m\u001b[43m \u001b[49m\u001b[43mkwds\u001b[49m\u001b[43m)\u001b[49m\n",
      "File \u001b[1;32mc:\\Users\\faune\\miniconda3\\envs\\pybacktestchain-gui\\Lib\\site-packages\\pandas\\io\\parsers\\readers.py:626\u001b[0m, in \u001b[0;36m_read\u001b[1;34m(filepath_or_buffer, kwds)\u001b[0m\n\u001b[0;32m    623\u001b[0m     \u001b[38;5;28;01mreturn\u001b[39;00m parser\n\u001b[0;32m    625\u001b[0m \u001b[38;5;28;01mwith\u001b[39;00m parser:\n\u001b[1;32m--> 626\u001b[0m     \u001b[38;5;28;01mreturn\u001b[39;00m \u001b[43mparser\u001b[49m\u001b[38;5;241;43m.\u001b[39;49m\u001b[43mread\u001b[49m\u001b[43m(\u001b[49m\u001b[43mnrows\u001b[49m\u001b[43m)\u001b[49m\n",
      "File \u001b[1;32mc:\\Users\\faune\\miniconda3\\envs\\pybacktestchain-gui\\Lib\\site-packages\\pandas\\io\\parsers\\readers.py:1923\u001b[0m, in \u001b[0;36mTextFileReader.read\u001b[1;34m(self, nrows)\u001b[0m\n\u001b[0;32m   1916\u001b[0m nrows \u001b[38;5;241m=\u001b[39m validate_integer(\u001b[38;5;124m\"\u001b[39m\u001b[38;5;124mnrows\u001b[39m\u001b[38;5;124m\"\u001b[39m, nrows)\n\u001b[0;32m   1917\u001b[0m \u001b[38;5;28;01mtry\u001b[39;00m:\n\u001b[0;32m   1918\u001b[0m     \u001b[38;5;66;03m# error: \"ParserBase\" has no attribute \"read\"\u001b[39;00m\n\u001b[0;32m   1919\u001b[0m     (\n\u001b[0;32m   1920\u001b[0m         index,\n\u001b[0;32m   1921\u001b[0m         columns,\n\u001b[0;32m   1922\u001b[0m         col_dict,\n\u001b[1;32m-> 1923\u001b[0m     ) \u001b[38;5;241m=\u001b[39m \u001b[38;5;28;43mself\u001b[39;49m\u001b[38;5;241;43m.\u001b[39;49m\u001b[43m_engine\u001b[49m\u001b[38;5;241;43m.\u001b[39;49m\u001b[43mread\u001b[49m\u001b[43m(\u001b[49m\u001b[43m  \u001b[49m\u001b[38;5;66;43;03m# type: ignore[attr-defined]\u001b[39;49;00m\n\u001b[0;32m   1924\u001b[0m \u001b[43m        \u001b[49m\u001b[43mnrows\u001b[49m\n\u001b[0;32m   1925\u001b[0m \u001b[43m    \u001b[49m\u001b[43m)\u001b[49m\n\u001b[0;32m   1926\u001b[0m \u001b[38;5;28;01mexcept\u001b[39;00m \u001b[38;5;167;01mException\u001b[39;00m:\n\u001b[0;32m   1927\u001b[0m     \u001b[38;5;28mself\u001b[39m\u001b[38;5;241m.\u001b[39mclose()\n",
      "File \u001b[1;32mc:\\Users\\faune\\miniconda3\\envs\\pybacktestchain-gui\\Lib\\site-packages\\pandas\\io\\parsers\\c_parser_wrapper.py:234\u001b[0m, in \u001b[0;36mCParserWrapper.read\u001b[1;34m(self, nrows)\u001b[0m\n\u001b[0;32m    232\u001b[0m \u001b[38;5;28;01mtry\u001b[39;00m:\n\u001b[0;32m    233\u001b[0m     \u001b[38;5;28;01mif\u001b[39;00m \u001b[38;5;28mself\u001b[39m\u001b[38;5;241m.\u001b[39mlow_memory:\n\u001b[1;32m--> 234\u001b[0m         chunks \u001b[38;5;241m=\u001b[39m \u001b[38;5;28;43mself\u001b[39;49m\u001b[38;5;241;43m.\u001b[39;49m\u001b[43m_reader\u001b[49m\u001b[38;5;241;43m.\u001b[39;49m\u001b[43mread_low_memory\u001b[49m\u001b[43m(\u001b[49m\u001b[43mnrows\u001b[49m\u001b[43m)\u001b[49m\n\u001b[0;32m    235\u001b[0m         \u001b[38;5;66;03m# destructive to chunks\u001b[39;00m\n\u001b[0;32m    236\u001b[0m         data \u001b[38;5;241m=\u001b[39m _concatenate_chunks(chunks)\n",
      "File \u001b[1;32mparsers.pyx:838\u001b[0m, in \u001b[0;36mpandas._libs.parsers.TextReader.read_low_memory\u001b[1;34m()\u001b[0m\n",
      "File \u001b[1;32mparsers.pyx:905\u001b[0m, in \u001b[0;36mpandas._libs.parsers.TextReader._read_rows\u001b[1;34m()\u001b[0m\n",
      "File \u001b[1;32mparsers.pyx:874\u001b[0m, in \u001b[0;36mpandas._libs.parsers.TextReader._tokenize_rows\u001b[1;34m()\u001b[0m\n",
      "File \u001b[1;32mparsers.pyx:891\u001b[0m, in \u001b[0;36mpandas._libs.parsers.TextReader._check_tokenize_status\u001b[1;34m()\u001b[0m\n",
      "File \u001b[1;32mparsers.pyx:2061\u001b[0m, in \u001b[0;36mpandas._libs.parsers.raise_parser_error\u001b[1;34m()\u001b[0m\n",
      "\u001b[1;31mParserError\u001b[0m: Error tokenizing data. C error: Expected 1 fields in line 8, saw 2\n"
     ]
    }
   ],
   "source": [
    "gt.get_tickers(AMEX=False, NASDAQ=False)"
   ]
  },
  {
   "cell_type": "code",
   "execution_count": 23,
   "metadata": {},
   "outputs": [],
   "source": [
    "import requests\n",
    "\n",
    "headers = {\n",
    "    'authority': 'api.nasdaq.com',\n",
    "    'accept': 'application/json, text/plain, */*',\n",
    "    'user-agent': 'Mozilla/5.0 (Windows NT 10.0; Win64; x64) AppleWebKit/537.36 (KHTML, like Gecko) Chrome/87.0.4280.141 Safari/537.36',\n",
    "    'origin': 'https://www.nasdaq.com',\n",
    "    'sec-fetch-site': 'same-site',\n",
    "    'sec-fetch-mode': 'cors',\n",
    "    'sec-fetch-dest': 'empty',\n",
    "    'referer': 'https://www.nasdaq.com/',\n",
    "    'accept-language': 'en-US,en;q=0.9',\n",
    "}\n",
    "\n",
    "params = (\n",
    "    ('tableonly', 'true'),\n",
    "    ('limit', '25'),\n",
    "    ('offset', '0'),\n",
    "    ('download', 'true'),\n",
    ")\n",
    "\n",
    "r = requests.get('https://api.nasdaq.com/api/screener/stocks', headers=headers, params=params)\n",
    "data = r.json()['data']\n",
    "df = pl.DataFrame(data['rows'])"
   ]
  },
  {
   "cell_type": "code",
   "execution_count": 33,
   "metadata": {},
   "outputs": [
    {
     "data": {
      "text/html": [
       "<div><style>\n",
       ".dataframe > thead > tr,\n",
       ".dataframe > tbody > tr {\n",
       "  text-align: right;\n",
       "  white-space: pre-wrap;\n",
       "}\n",
       "</style>\n",
       "<small>shape: (3_912, 12)</small><table border=\"1\" class=\"dataframe\"><thead><tr><th>symbol</th><th>name</th><th>lastsale</th><th>netchange</th><th>pctchange</th><th>volume</th><th>marketCap</th><th>country</th><th>ipoyear</th><th>industry</th><th>sector</th><th>url</th></tr><tr><td>str</td><td>str</td><td>str</td><td>str</td><td>str</td><td>i128</td><td>f64</td><td>str</td><td>str</td><td>str</td><td>str</td><td>str</td></tr></thead><tbody><tr><td>&quot;A&quot;</td><td>&quot;Agilent Technologies Inc. Comm…</td><td>&quot;$137.47&quot;</td><td>&quot;0.47&quot;</td><td>&quot;0.343%&quot;</td><td>1369873</td><td>3.9261e10</td><td>&quot;United States&quot;</td><td>&quot;1999&quot;</td><td>&quot;Biotechnology: Laboratory Anal…</td><td>&quot;Industrials&quot;</td><td>&quot;/market-activity/stocks/a&quot;</td></tr><tr><td>&quot;AA&quot;</td><td>&quot;Alcoa Corporation Common Stock…</td><td>&quot;$35.91&quot;</td><td>&quot;-0.09&quot;</td><td>&quot;-0.25%&quot;</td><td>2942573</td><td>9.2775e9</td><td>&quot;United States&quot;</td><td>&quot;2016&quot;</td><td>&quot;Aluminum&quot;</td><td>&quot;Industrials&quot;</td><td>&quot;/market-activity/stocks/aa&quot;</td></tr><tr><td>&quot;AACG&quot;</td><td>&quot;ATA Creativity Global American…</td><td>&quot;$0.9462&quot;</td><td>&quot;-0.0329&quot;</td><td>&quot;-3.36%&quot;</td><td>20957</td><td>3.0278523e7</td><td>&quot;China&quot;</td><td>&quot;2008&quot;</td><td>&quot;Other Consumer Services&quot;</td><td>&quot;Real Estate&quot;</td><td>&quot;/market-activity/stocks/aacg&quot;</td></tr><tr><td>&quot;AACT&quot;</td><td>&quot;Ares Acquisition Corporation I…</td><td>&quot;$10.98&quot;</td><td>&quot;0.00&quot;</td><td>&quot;0.00%&quot;</td><td>14192</td><td>0.0</td><td>&quot;&quot;</td><td>&quot;2023&quot;</td><td>&quot;Blank Checks&quot;</td><td>&quot;Finance&quot;</td><td>&quot;/market-activity/stocks/aact&quot;</td></tr><tr><td>&quot;AAM&quot;</td><td>&quot;AA Mission Acquisition Corp. C…</td><td>&quot;$10.11&quot;</td><td>&quot;-0.01&quot;</td><td>&quot;-0.099%&quot;</td><td>619</td><td>0.0</td><td>&quot;&quot;</td><td>&quot;2024&quot;</td><td>&quot;&quot;</td><td>&quot;&quot;</td><td>&quot;/market-activity/stocks/aam&quot;</td></tr><tr><td>&hellip;</td><td>&hellip;</td><td>&hellip;</td><td>&hellip;</td><td>&hellip;</td><td>&hellip;</td><td>&hellip;</td><td>&hellip;</td><td>&hellip;</td><td>&hellip;</td><td>&hellip;</td><td>&hellip;</td></tr><tr><td>&quot;ZUO&quot;</td><td>&quot;Zuora Inc. Class A Common Stoc…</td><td>&quot;$9.96&quot;</td><td>&quot;0.01&quot;</td><td>&quot;0.101%&quot;</td><td>3282202</td><td>1.5309e9</td><td>&quot;United States&quot;</td><td>&quot;2018&quot;</td><td>&quot;Computer Software: Prepackaged…</td><td>&quot;Technology&quot;</td><td>&quot;/market-activity/stocks/zuo&quot;</td></tr><tr><td>&quot;ZVIA&quot;</td><td>&quot;Zevia PBC Class A Common Stock&quot;</td><td>&quot;$4.42&quot;</td><td>&quot;0.18&quot;</td><td>&quot;4.245%&quot;</td><td>905385</td><td>3.22722238e8</td><td>&quot;United States&quot;</td><td>&quot;2021&quot;</td><td>&quot;Beverages (Production/Distribu…</td><td>&quot;Consumer Staples&quot;</td><td>&quot;/market-activity/stocks/zvia&quot;</td></tr><tr><td>&quot;ZVSA&quot;</td><td>&quot;ZyVersa Therapeutics Inc. Comm…</td><td>&quot;$1.47&quot;</td><td>&quot;0.29&quot;</td><td>&quot;24.576%&quot;</td><td>38269055</td><td>3.445961e6</td><td>&quot;United States&quot;</td><td>&quot;2022&quot;</td><td>&quot;Biotechnology: Pharmaceutical …</td><td>&quot;Health Care&quot;</td><td>&quot;/market-activity/stocks/zvsa&quot;</td></tr><tr><td>&quot;ZWS&quot;</td><td>&quot;Zurn Elkay Water Solutions Cor…</td><td>&quot;$36.20&quot;</td><td>&quot;-0.76&quot;</td><td>&quot;-2.056%&quot;</td><td>682876</td><td>6.1436e9</td><td>&quot;United States&quot;</td><td>&quot;2012&quot;</td><td>&quot;Industrial Machinery/Component…</td><td>&quot;Industrials&quot;</td><td>&quot;/market-activity/stocks/zws&quot;</td></tr><tr><td>&quot;ZYBT&quot;</td><td>&quot;Zhengye Biotechnology Holding …</td><td>&quot;$4.6162&quot;</td><td>&quot;0.1162&quot;</td><td>&quot;2.582%&quot;</td><td>502143</td><td>2.17729425e8</td><td>&quot;China&quot;</td><td>&quot;2025&quot;</td><td>&quot;Biotechnology: Pharmaceutical …</td><td>&quot;Health Care&quot;</td><td>&quot;/market-activity/stocks/zybt&quot;</td></tr></tbody></table></div>"
      ],
      "text/plain": [
       "shape: (3_912, 12)\n",
       "┌────────┬─────────────┬──────────┬───────────┬───┬─────────┬────────────┬────────────┬────────────┐\n",
       "│ symbol ┆ name        ┆ lastsale ┆ netchange ┆ … ┆ ipoyear ┆ industry   ┆ sector     ┆ url        │\n",
       "│ ---    ┆ ---         ┆ ---      ┆ ---       ┆   ┆ ---     ┆ ---        ┆ ---        ┆ ---        │\n",
       "│ str    ┆ str         ┆ str      ┆ str       ┆   ┆ str     ┆ str        ┆ str        ┆ str        │\n",
       "╞════════╪═════════════╪══════════╪═══════════╪═══╪═════════╪════════════╪════════════╪════════════╡\n",
       "│ A      ┆ Agilent Tec ┆ $137.47  ┆ 0.47      ┆ … ┆ 1999    ┆ Biotechnol ┆ Industrial ┆ /market-ac │\n",
       "│        ┆ hnologies   ┆          ┆           ┆   ┆         ┆ ogy:       ┆ s          ┆ tivity/sto │\n",
       "│        ┆ Inc. Comm…  ┆          ┆           ┆   ┆         ┆ Laboratory ┆            ┆ cks/a      │\n",
       "│        ┆             ┆          ┆           ┆   ┆         ┆ Anal…      ┆            ┆            │\n",
       "│ AA     ┆ Alcoa       ┆ $35.91   ┆ -0.09     ┆ … ┆ 2016    ┆ Aluminum   ┆ Industrial ┆ /market-ac │\n",
       "│        ┆ Corporation ┆          ┆           ┆   ┆         ┆            ┆ s          ┆ tivity/sto │\n",
       "│        ┆ Common      ┆          ┆           ┆   ┆         ┆            ┆            ┆ cks/aa     │\n",
       "│        ┆ Stock…      ┆          ┆           ┆   ┆         ┆            ┆            ┆            │\n",
       "│ AACG   ┆ ATA         ┆ $0.9462  ┆ -0.0329   ┆ … ┆ 2008    ┆ Other      ┆ Real       ┆ /market-ac │\n",
       "│        ┆ Creativity  ┆          ┆           ┆   ┆         ┆ Consumer   ┆ Estate     ┆ tivity/sto │\n",
       "│        ┆ Global      ┆          ┆           ┆   ┆         ┆ Services   ┆            ┆ cks/aacg   │\n",
       "│        ┆ American…   ┆          ┆           ┆   ┆         ┆            ┆            ┆            │\n",
       "│ AACT   ┆ Ares        ┆ $10.98   ┆ 0.00      ┆ … ┆ 2023    ┆ Blank      ┆ Finance    ┆ /market-ac │\n",
       "│        ┆ Acquisition ┆          ┆           ┆   ┆         ┆ Checks     ┆            ┆ tivity/sto │\n",
       "│        ┆ Corporation ┆          ┆           ┆   ┆         ┆            ┆            ┆ cks/aact   │\n",
       "│        ┆ I…          ┆          ┆           ┆   ┆         ┆            ┆            ┆            │\n",
       "│ AAM    ┆ AA Mission  ┆ $10.11   ┆ -0.01     ┆ … ┆ 2024    ┆            ┆            ┆ /market-ac │\n",
       "│        ┆ Acquisition ┆          ┆           ┆   ┆         ┆            ┆            ┆ tivity/sto │\n",
       "│        ┆ Corp. C…    ┆          ┆           ┆   ┆         ┆            ┆            ┆ cks/aam    │\n",
       "│ …      ┆ …           ┆ …        ┆ …         ┆ … ┆ …       ┆ …          ┆ …          ┆ …          │\n",
       "│ ZUO    ┆ Zuora Inc.  ┆ $9.96    ┆ 0.01      ┆ … ┆ 2018    ┆ Computer   ┆ Technology ┆ /market-ac │\n",
       "│        ┆ Class A     ┆          ┆           ┆   ┆         ┆ Software:  ┆            ┆ tivity/sto │\n",
       "│        ┆ Common      ┆          ┆           ┆   ┆         ┆ Prepackage ┆            ┆ cks/zuo    │\n",
       "│        ┆ Stoc…       ┆          ┆           ┆   ┆         ┆ d…         ┆            ┆            │\n",
       "│ ZVIA   ┆ Zevia PBC   ┆ $4.42    ┆ 0.18      ┆ … ┆ 2021    ┆ Beverages  ┆ Consumer   ┆ /market-ac │\n",
       "│        ┆ Class A     ┆          ┆           ┆   ┆         ┆ (Productio ┆ Staples    ┆ tivity/sto │\n",
       "│        ┆ Common      ┆          ┆           ┆   ┆         ┆ n/Distribu ┆            ┆ cks/zvia   │\n",
       "│        ┆ Stock       ┆          ┆           ┆   ┆         ┆ …          ┆            ┆            │\n",
       "│ ZVSA   ┆ ZyVersa The ┆ $1.47    ┆ 0.29      ┆ … ┆ 2022    ┆ Biotechnol ┆ Health     ┆ /market-ac │\n",
       "│        ┆ rapeutics   ┆          ┆           ┆   ┆         ┆ ogy: Pharm ┆ Care       ┆ tivity/sto │\n",
       "│        ┆ Inc. Comm…  ┆          ┆           ┆   ┆         ┆ aceutical  ┆            ┆ cks/zvsa   │\n",
       "│        ┆             ┆          ┆           ┆   ┆         ┆ …          ┆            ┆            │\n",
       "│ ZWS    ┆ Zurn Elkay  ┆ $36.20   ┆ -0.76     ┆ … ┆ 2012    ┆ Industrial ┆ Industrial ┆ /market-ac │\n",
       "│        ┆ Water       ┆          ┆           ┆   ┆         ┆ Machinery/ ┆ s          ┆ tivity/sto │\n",
       "│        ┆ Solutions   ┆          ┆           ┆   ┆         ┆ Component… ┆            ┆ cks/zws    │\n",
       "│        ┆ Cor…        ┆          ┆           ┆   ┆         ┆            ┆            ┆            │\n",
       "│ ZYBT   ┆ Zhengye Bio ┆ $4.6162  ┆ 0.1162    ┆ … ┆ 2025    ┆ Biotechnol ┆ Health     ┆ /market-ac │\n",
       "│        ┆ technology  ┆          ┆           ┆   ┆         ┆ ogy: Pharm ┆ Care       ┆ tivity/sto │\n",
       "│        ┆ Holding …   ┆          ┆           ┆   ┆         ┆ aceutical  ┆            ┆ cks/zybt   │\n",
       "│        ┆             ┆          ┆           ┆   ┆         ┆ …          ┆            ┆            │\n",
       "└────────┴─────────────┴──────────┴───────────┴───┴─────────┴────────────┴────────────┴────────────┘"
      ]
     },
     "execution_count": 33,
     "metadata": {},
     "output_type": "execute_result"
    }
   ],
   "source": [
    "df.filter(~pl.col('marketCap').eq(\"\"), ~pl.col('ipoyear').eq(\"\")).with_columns(pl.col('volume').cast(pl.Int128), pl.col('marketCap').cast(pl.Float64))"
   ]
  },
  {
   "cell_type": "code",
   "execution_count": 14,
   "metadata": {},
   "outputs": [
    {
     "name": "stderr",
     "output_type": "stream",
     "text": [
      "WARNING:root:Blockchain with name backtest already exists. Please use a different name.\n",
      "INFO:root:Running backtest from 2019-01-01 00:00:00 to 2020-01-01 00:00:00.\n",
      "INFO:root:Retrieving price data for universe\n",
      "WARNING:root:Error computing portfolio, returning equal weight portfolio\n",
      "WARNING:root:not enough values to unpack (expected 2, got 0)\n",
      "WARNING:root:Price for NVDA not available on 2019-01-01 00:00:00\n",
      "WARNING:root:Price for NFLX not available on 2019-01-01 00:00:00\n",
      "WARNING:root:Price for CSCO not available on 2019-01-01 00:00:00\n",
      "WARNING:root:Error computing portfolio, returning equal weight portfolio\n",
      "WARNING:root:not enough values to unpack (expected 2, got 0)\n",
      "WARNING:root:Price for NVDA not available on 2019-01-02 00:00:00\n",
      "WARNING:root:Price for NFLX not available on 2019-01-02 00:00:00\n",
      "WARNING:root:Price for CSCO not available on 2019-01-02 00:00:00\n",
      "c:\\Users\\faune\\miniconda3\\envs\\pybacktestchain-gui\\Lib\\site-packages\\pandas\\core\\frame.py:11211: RuntimeWarning:\n",
      "\n",
      "Degrees of freedom <= 0 for slice\n",
      "\n",
      "c:\\Users\\faune\\miniconda3\\envs\\pybacktestchain-gui\\Lib\\site-packages\\numpy\\lib\\function_base.py:2748: RuntimeWarning:\n",
      "\n",
      "divide by zero encountered in divide\n",
      "\n",
      "c:\\Users\\faune\\miniconda3\\envs\\pybacktestchain-gui\\Lib\\site-packages\\numpy\\lib\\function_base.py:2748: RuntimeWarning:\n",
      "\n",
      "invalid value encountered in multiply\n",
      "\n",
      "WARNING:root:Error computing portfolio, returning equal weight portfolio\n",
      "WARNING:root:Optimization did not converge\n",
      "INFO:root:Stop loss triggered for NVDA at 2019-01-03 00:00:00. Selling all shares.\n",
      "INFO:root:Stop loss triggered for NFLX at 2019-01-03 00:00:00. Selling all shares.\n",
      "INFO:root:Stop loss triggered for CSCO at 2019-01-03 00:00:00. Selling all shares.\n",
      "INFO:root:-----------------------------------\n",
      "INFO:root:Rebalancing portfolio at 2019-01-31 00:00:00\n",
      "INFO:root:-----------------------------------\n",
      "INFO:root:Rebalancing portfolio at 2019-02-28 00:00:00\n",
      "INFO:root:Stop loss triggered for TSLA at 2019-03-06 00:00:00. Selling all shares.\n",
      "INFO:root:-----------------------------------\n",
      "INFO:root:Rebalancing portfolio at 2019-03-29 00:00:00\n",
      "INFO:root:Stop loss triggered for TSLA at 2019-04-26 00:00:00. Selling all shares.\n",
      "INFO:root:-----------------------------------\n",
      "INFO:root:Rebalancing portfolio at 2019-04-30 00:00:00\n",
      "INFO:root:Stop loss triggered for TSLA at 2019-05-18 00:00:00. Selling all shares.\n",
      "INFO:root:-----------------------------------\n",
      "INFO:root:Rebalancing portfolio at 2019-05-31 00:00:00\n",
      "INFO:root:-----------------------------------\n",
      "INFO:root:Rebalancing portfolio at 2019-06-28 00:00:00\n",
      "WARNING:root:Not enough cash to buy 13025 of NVDA on 2019-06-28 00:00:00. Needed: 52838.53291273117, Available: 52825.249799489975\n",
      "INFO:root:Buying as many shares of NVDA as possible with available cash.\n",
      "INFO:root:-----------------------------------\n",
      "INFO:root:Rebalancing portfolio at 2019-07-31 00:00:00\n",
      "INFO:root:Stop loss triggered for TSLA at 2019-08-16 00:00:00. Selling all shares.\n",
      "INFO:root:-----------------------------------\n",
      "INFO:root:Rebalancing portfolio at 2019-08-30 00:00:00\n",
      "INFO:root:-----------------------------------\n",
      "INFO:root:Rebalancing portfolio at 2019-09-30 00:00:00\n",
      "INFO:root:-----------------------------------\n",
      "INFO:root:Rebalancing portfolio at 2019-10-31 00:00:00\n",
      "INFO:root:-----------------------------------\n",
      "INFO:root:Rebalancing portfolio at 2019-11-29 00:00:00\n",
      "INFO:root:-----------------------------------\n",
      "INFO:root:Rebalancing portfolio at 2019-12-31 00:00:00\n",
      "WARNING:root:Not enough cash to buy 1754 of CSCO on 2019-12-31 00:00:00. Needed: 70945.34027862549, Available: 70797.12665247917\n",
      "INFO:root:Buying as many shares of CSCO as possible with available cash.\n",
      "INFO:root:Backtest completed. Final portfolio value: 1729937.145619154\n"
     ]
    }
   ],
   "source": [
    "# Set verbosity for logging\n",
    "verbose = False  # Set to True to enable logging, or False to suppress it\n",
    "\n",
    "backtest = Backtest(\n",
    "    initial_date=datetime(2019, 1, 1),\n",
    "    final_date=datetime(2020, 1, 1),\n",
    "    information_class=FirstTwoMoments,\n",
    "    risk_model=StopLoss,\n",
    "    name_blockchain='backtest',\n",
    "    verbose=verbose\n",
    ")\n",
    "\n",
    "backtest.run_backtest()\n",
    "\n",
    "block_chain = load_blockchain('backtest')\n"
   ]
  },
  {
   "cell_type": "code",
   "execution_count": 3,
   "metadata": {},
   "outputs": [
    {
     "data": {
      "text/plain": [
       "'VioletJaguarSoldier'"
      ]
     },
     "execution_count": 3,
     "metadata": {},
     "output_type": "execute_result"
    }
   ],
   "source": [
    "block_chain.chain[2].name_backtest"
   ]
  },
  {
   "cell_type": "code",
   "execution_count": 12,
   "metadata": {},
   "outputs": [],
   "source": [
    "test = (\n",
    "    pl.read_csv(\n",
    "        source=fr\".\\backtests\\{block_chain.chain[4].name_backtest}.csv\"\n",
    "    )\n",
    "    .select(\n",
    "        pl.col('Date').str.to_date(), \n",
    "        pl.exclude('', 'Date')\n",
    "    )\n",
    "    .with_columns(dollar_amount = pl.col('Quantity').mul(pl.col('Price')))\n",
    ")"
   ]
  },
  {
   "cell_type": "code",
   "execution_count": 13,
   "metadata": {},
   "outputs": [
    {
     "data": {
      "application/vnd.plotly.v1+json": {
       "config": {
        "plotlyServerURL": "https://plot.ly"
       },
       "data": [
        {
         "hovertemplate": "variable=Cash<br>index=%{x}<br>value=%{y}<extra></extra>",
         "legendgroup": "Cash",
         "line": {
          "color": "#636efa",
          "dash": "solid"
         },
         "marker": {
          "symbol": "circle"
         },
         "mode": "lines",
         "name": "Cash",
         "orientation": "v",
         "showlegend": true,
         "type": "scatter",
         "x": [
          0,
          1,
          2,
          3,
          4,
          5,
          6,
          7,
          8,
          9,
          10,
          11,
          12,
          13,
          14,
          15,
          16,
          17,
          18,
          19,
          20,
          21,
          22,
          23,
          24,
          25,
          26,
          27,
          28,
          29,
          30,
          31
         ],
         "xaxis": "x",
         "y": [
          10137.269721746445,
          9.61345648765564,
          49143.977941036224,
          2.5696654319763184,
          52250.19600057602,
          162996.67876434326,
          3.976041793823242,
          144867.52889823914,
          227104.71179246902,
          10.23181962966919,
          198476.9229979515,
          66088.2342350483,
          10.464467287063599,
          52303.58427929878,
          0.5359227657318115,
          4164.719479799271,
          13.998011827468872,
          28809.126821756363,
          27242.878341436386,
          16.88916563987732,
          8772.105446577072,
          6.999338865280151,
          19516.61951327324,
          15727.769354581833,
          269.45458340644836,
          32404.585227251053,
          28613.425315141678,
          186.80876851081848,
          1156.7387611865997,
          69989.19359087944,
          70016.84025835991,
          1.7980563640594482
         ],
         "yaxis": "y"
        }
       ],
       "layout": {
        "legend": {
         "title": {
          "text": "variable"
         },
         "tracegroupgap": 0
        },
        "margin": {
         "t": 60
        },
        "template": {
         "data": {
          "bar": [
           {
            "error_x": {
             "color": "#2a3f5f"
            },
            "error_y": {
             "color": "#2a3f5f"
            },
            "marker": {
             "line": {
              "color": "#E5ECF6",
              "width": 0.5
             },
             "pattern": {
              "fillmode": "overlay",
              "size": 10,
              "solidity": 0.2
             }
            },
            "type": "bar"
           }
          ],
          "barpolar": [
           {
            "marker": {
             "line": {
              "color": "#E5ECF6",
              "width": 0.5
             },
             "pattern": {
              "fillmode": "overlay",
              "size": 10,
              "solidity": 0.2
             }
            },
            "type": "barpolar"
           }
          ],
          "carpet": [
           {
            "aaxis": {
             "endlinecolor": "#2a3f5f",
             "gridcolor": "white",
             "linecolor": "white",
             "minorgridcolor": "white",
             "startlinecolor": "#2a3f5f"
            },
            "baxis": {
             "endlinecolor": "#2a3f5f",
             "gridcolor": "white",
             "linecolor": "white",
             "minorgridcolor": "white",
             "startlinecolor": "#2a3f5f"
            },
            "type": "carpet"
           }
          ],
          "choropleth": [
           {
            "colorbar": {
             "outlinewidth": 0,
             "ticks": ""
            },
            "type": "choropleth"
           }
          ],
          "contour": [
           {
            "colorbar": {
             "outlinewidth": 0,
             "ticks": ""
            },
            "colorscale": [
             [
              0,
              "#0d0887"
             ],
             [
              0.1111111111111111,
              "#46039f"
             ],
             [
              0.2222222222222222,
              "#7201a8"
             ],
             [
              0.3333333333333333,
              "#9c179e"
             ],
             [
              0.4444444444444444,
              "#bd3786"
             ],
             [
              0.5555555555555556,
              "#d8576b"
             ],
             [
              0.6666666666666666,
              "#ed7953"
             ],
             [
              0.7777777777777778,
              "#fb9f3a"
             ],
             [
              0.8888888888888888,
              "#fdca26"
             ],
             [
              1,
              "#f0f921"
             ]
            ],
            "type": "contour"
           }
          ],
          "contourcarpet": [
           {
            "colorbar": {
             "outlinewidth": 0,
             "ticks": ""
            },
            "type": "contourcarpet"
           }
          ],
          "heatmap": [
           {
            "colorbar": {
             "outlinewidth": 0,
             "ticks": ""
            },
            "colorscale": [
             [
              0,
              "#0d0887"
             ],
             [
              0.1111111111111111,
              "#46039f"
             ],
             [
              0.2222222222222222,
              "#7201a8"
             ],
             [
              0.3333333333333333,
              "#9c179e"
             ],
             [
              0.4444444444444444,
              "#bd3786"
             ],
             [
              0.5555555555555556,
              "#d8576b"
             ],
             [
              0.6666666666666666,
              "#ed7953"
             ],
             [
              0.7777777777777778,
              "#fb9f3a"
             ],
             [
              0.8888888888888888,
              "#fdca26"
             ],
             [
              1,
              "#f0f921"
             ]
            ],
            "type": "heatmap"
           }
          ],
          "heatmapgl": [
           {
            "colorbar": {
             "outlinewidth": 0,
             "ticks": ""
            },
            "colorscale": [
             [
              0,
              "#0d0887"
             ],
             [
              0.1111111111111111,
              "#46039f"
             ],
             [
              0.2222222222222222,
              "#7201a8"
             ],
             [
              0.3333333333333333,
              "#9c179e"
             ],
             [
              0.4444444444444444,
              "#bd3786"
             ],
             [
              0.5555555555555556,
              "#d8576b"
             ],
             [
              0.6666666666666666,
              "#ed7953"
             ],
             [
              0.7777777777777778,
              "#fb9f3a"
             ],
             [
              0.8888888888888888,
              "#fdca26"
             ],
             [
              1,
              "#f0f921"
             ]
            ],
            "type": "heatmapgl"
           }
          ],
          "histogram": [
           {
            "marker": {
             "pattern": {
              "fillmode": "overlay",
              "size": 10,
              "solidity": 0.2
             }
            },
            "type": "histogram"
           }
          ],
          "histogram2d": [
           {
            "colorbar": {
             "outlinewidth": 0,
             "ticks": ""
            },
            "colorscale": [
             [
              0,
              "#0d0887"
             ],
             [
              0.1111111111111111,
              "#46039f"
             ],
             [
              0.2222222222222222,
              "#7201a8"
             ],
             [
              0.3333333333333333,
              "#9c179e"
             ],
             [
              0.4444444444444444,
              "#bd3786"
             ],
             [
              0.5555555555555556,
              "#d8576b"
             ],
             [
              0.6666666666666666,
              "#ed7953"
             ],
             [
              0.7777777777777778,
              "#fb9f3a"
             ],
             [
              0.8888888888888888,
              "#fdca26"
             ],
             [
              1,
              "#f0f921"
             ]
            ],
            "type": "histogram2d"
           }
          ],
          "histogram2dcontour": [
           {
            "colorbar": {
             "outlinewidth": 0,
             "ticks": ""
            },
            "colorscale": [
             [
              0,
              "#0d0887"
             ],
             [
              0.1111111111111111,
              "#46039f"
             ],
             [
              0.2222222222222222,
              "#7201a8"
             ],
             [
              0.3333333333333333,
              "#9c179e"
             ],
             [
              0.4444444444444444,
              "#bd3786"
             ],
             [
              0.5555555555555556,
              "#d8576b"
             ],
             [
              0.6666666666666666,
              "#ed7953"
             ],
             [
              0.7777777777777778,
              "#fb9f3a"
             ],
             [
              0.8888888888888888,
              "#fdca26"
             ],
             [
              1,
              "#f0f921"
             ]
            ],
            "type": "histogram2dcontour"
           }
          ],
          "mesh3d": [
           {
            "colorbar": {
             "outlinewidth": 0,
             "ticks": ""
            },
            "type": "mesh3d"
           }
          ],
          "parcoords": [
           {
            "line": {
             "colorbar": {
              "outlinewidth": 0,
              "ticks": ""
             }
            },
            "type": "parcoords"
           }
          ],
          "pie": [
           {
            "automargin": true,
            "type": "pie"
           }
          ],
          "scatter": [
           {
            "fillpattern": {
             "fillmode": "overlay",
             "size": 10,
             "solidity": 0.2
            },
            "type": "scatter"
           }
          ],
          "scatter3d": [
           {
            "line": {
             "colorbar": {
              "outlinewidth": 0,
              "ticks": ""
             }
            },
            "marker": {
             "colorbar": {
              "outlinewidth": 0,
              "ticks": ""
             }
            },
            "type": "scatter3d"
           }
          ],
          "scattercarpet": [
           {
            "marker": {
             "colorbar": {
              "outlinewidth": 0,
              "ticks": ""
             }
            },
            "type": "scattercarpet"
           }
          ],
          "scattergeo": [
           {
            "marker": {
             "colorbar": {
              "outlinewidth": 0,
              "ticks": ""
             }
            },
            "type": "scattergeo"
           }
          ],
          "scattergl": [
           {
            "marker": {
             "colorbar": {
              "outlinewidth": 0,
              "ticks": ""
             }
            },
            "type": "scattergl"
           }
          ],
          "scattermapbox": [
           {
            "marker": {
             "colorbar": {
              "outlinewidth": 0,
              "ticks": ""
             }
            },
            "type": "scattermapbox"
           }
          ],
          "scatterpolar": [
           {
            "marker": {
             "colorbar": {
              "outlinewidth": 0,
              "ticks": ""
             }
            },
            "type": "scatterpolar"
           }
          ],
          "scatterpolargl": [
           {
            "marker": {
             "colorbar": {
              "outlinewidth": 0,
              "ticks": ""
             }
            },
            "type": "scatterpolargl"
           }
          ],
          "scatterternary": [
           {
            "marker": {
             "colorbar": {
              "outlinewidth": 0,
              "ticks": ""
             }
            },
            "type": "scatterternary"
           }
          ],
          "surface": [
           {
            "colorbar": {
             "outlinewidth": 0,
             "ticks": ""
            },
            "colorscale": [
             [
              0,
              "#0d0887"
             ],
             [
              0.1111111111111111,
              "#46039f"
             ],
             [
              0.2222222222222222,
              "#7201a8"
             ],
             [
              0.3333333333333333,
              "#9c179e"
             ],
             [
              0.4444444444444444,
              "#bd3786"
             ],
             [
              0.5555555555555556,
              "#d8576b"
             ],
             [
              0.6666666666666666,
              "#ed7953"
             ],
             [
              0.7777777777777778,
              "#fb9f3a"
             ],
             [
              0.8888888888888888,
              "#fdca26"
             ],
             [
              1,
              "#f0f921"
             ]
            ],
            "type": "surface"
           }
          ],
          "table": [
           {
            "cells": {
             "fill": {
              "color": "#EBF0F8"
             },
             "line": {
              "color": "white"
             }
            },
            "header": {
             "fill": {
              "color": "#C8D4E3"
             },
             "line": {
              "color": "white"
             }
            },
            "type": "table"
           }
          ]
         },
         "layout": {
          "annotationdefaults": {
           "arrowcolor": "#2a3f5f",
           "arrowhead": 0,
           "arrowwidth": 1
          },
          "autotypenumbers": "strict",
          "coloraxis": {
           "colorbar": {
            "outlinewidth": 0,
            "ticks": ""
           }
          },
          "colorscale": {
           "diverging": [
            [
             0,
             "#8e0152"
            ],
            [
             0.1,
             "#c51b7d"
            ],
            [
             0.2,
             "#de77ae"
            ],
            [
             0.3,
             "#f1b6da"
            ],
            [
             0.4,
             "#fde0ef"
            ],
            [
             0.5,
             "#f7f7f7"
            ],
            [
             0.6,
             "#e6f5d0"
            ],
            [
             0.7,
             "#b8e186"
            ],
            [
             0.8,
             "#7fbc41"
            ],
            [
             0.9,
             "#4d9221"
            ],
            [
             1,
             "#276419"
            ]
           ],
           "sequential": [
            [
             0,
             "#0d0887"
            ],
            [
             0.1111111111111111,
             "#46039f"
            ],
            [
             0.2222222222222222,
             "#7201a8"
            ],
            [
             0.3333333333333333,
             "#9c179e"
            ],
            [
             0.4444444444444444,
             "#bd3786"
            ],
            [
             0.5555555555555556,
             "#d8576b"
            ],
            [
             0.6666666666666666,
             "#ed7953"
            ],
            [
             0.7777777777777778,
             "#fb9f3a"
            ],
            [
             0.8888888888888888,
             "#fdca26"
            ],
            [
             1,
             "#f0f921"
            ]
           ],
           "sequentialminus": [
            [
             0,
             "#0d0887"
            ],
            [
             0.1111111111111111,
             "#46039f"
            ],
            [
             0.2222222222222222,
             "#7201a8"
            ],
            [
             0.3333333333333333,
             "#9c179e"
            ],
            [
             0.4444444444444444,
             "#bd3786"
            ],
            [
             0.5555555555555556,
             "#d8576b"
            ],
            [
             0.6666666666666666,
             "#ed7953"
            ],
            [
             0.7777777777777778,
             "#fb9f3a"
            ],
            [
             0.8888888888888888,
             "#fdca26"
            ],
            [
             1,
             "#f0f921"
            ]
           ]
          },
          "colorway": [
           "#636efa",
           "#EF553B",
           "#00cc96",
           "#ab63fa",
           "#FFA15A",
           "#19d3f3",
           "#FF6692",
           "#B6E880",
           "#FF97FF",
           "#FECB52"
          ],
          "font": {
           "color": "#2a3f5f"
          },
          "geo": {
           "bgcolor": "white",
           "lakecolor": "white",
           "landcolor": "#E5ECF6",
           "showlakes": true,
           "showland": true,
           "subunitcolor": "white"
          },
          "hoverlabel": {
           "align": "left"
          },
          "hovermode": "closest",
          "mapbox": {
           "style": "light"
          },
          "paper_bgcolor": "white",
          "plot_bgcolor": "#E5ECF6",
          "polar": {
           "angularaxis": {
            "gridcolor": "white",
            "linecolor": "white",
            "ticks": ""
           },
           "bgcolor": "#E5ECF6",
           "radialaxis": {
            "gridcolor": "white",
            "linecolor": "white",
            "ticks": ""
           }
          },
          "scene": {
           "xaxis": {
            "backgroundcolor": "#E5ECF6",
            "gridcolor": "white",
            "gridwidth": 2,
            "linecolor": "white",
            "showbackground": true,
            "ticks": "",
            "zerolinecolor": "white"
           },
           "yaxis": {
            "backgroundcolor": "#E5ECF6",
            "gridcolor": "white",
            "gridwidth": 2,
            "linecolor": "white",
            "showbackground": true,
            "ticks": "",
            "zerolinecolor": "white"
           },
           "zaxis": {
            "backgroundcolor": "#E5ECF6",
            "gridcolor": "white",
            "gridwidth": 2,
            "linecolor": "white",
            "showbackground": true,
            "ticks": "",
            "zerolinecolor": "white"
           }
          },
          "shapedefaults": {
           "line": {
            "color": "#2a3f5f"
           }
          },
          "ternary": {
           "aaxis": {
            "gridcolor": "white",
            "linecolor": "white",
            "ticks": ""
           },
           "baxis": {
            "gridcolor": "white",
            "linecolor": "white",
            "ticks": ""
           },
           "bgcolor": "#E5ECF6",
           "caxis": {
            "gridcolor": "white",
            "linecolor": "white",
            "ticks": ""
           }
          },
          "title": {
           "x": 0.05
          },
          "xaxis": {
           "automargin": true,
           "gridcolor": "white",
           "linecolor": "white",
           "ticks": "",
           "title": {
            "standoff": 15
           },
           "zerolinecolor": "white",
           "zerolinewidth": 2
          },
          "yaxis": {
           "automargin": true,
           "gridcolor": "white",
           "linecolor": "white",
           "ticks": "",
           "title": {
            "standoff": 15
           },
           "zerolinecolor": "white",
           "zerolinewidth": 2
          }
         }
        },
        "xaxis": {
         "anchor": "y",
         "domain": [
          0,
          1
         ],
         "title": {
          "text": "index"
         }
        },
        "yaxis": {
         "anchor": "x",
         "domain": [
          0,
          1
         ],
         "title": {
          "text": "value"
         }
        }
       }
      }
     },
     "metadata": {},
     "output_type": "display_data"
    }
   ],
   "source": [
    "px.line(test.select('Cash'))"
   ]
  },
  {
   "cell_type": "code",
   "execution_count": null,
   "metadata": {},
   "outputs": [],
   "source": []
  }
 ],
 "metadata": {
  "kernelspec": {
   "display_name": "pybacktestchain-gui",
   "language": "python",
   "name": "python3"
  },
  "language_info": {
   "codemirror_mode": {
    "name": "ipython",
    "version": 3
   },
   "file_extension": ".py",
   "mimetype": "text/x-python",
   "name": "python",
   "nbconvert_exporter": "python",
   "pygments_lexer": "ipython3",
   "version": "3.11.11"
  }
 },
 "nbformat": 4,
 "nbformat_minor": 2
}
